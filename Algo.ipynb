{
  "nbformat": 4,
  "nbformat_minor": 0,
  "metadata": {
    "colab": {
      "provenance": []
    },
    "kernelspec": {
      "name": "python3",
      "display_name": "Python 3"
    },
    "language_info": {
      "name": "python"
    }
  },
  "cells": [
    {
      "cell_type": "code",
      "execution_count": 1,
      "metadata": {
        "colab": {
          "base_uri": "https://localhost:8080/"
        },
        "id": "QWkLAyv6qMFy",
        "outputId": "f201d879-d1f8-4747-d08e-7d0b277117f6"
      },
      "outputs": [
        {
          "output_type": "stream",
          "name": "stdout",
          "text": [
            "Time :  15/8/28\n",
            "K = 8\n",
            "Text = derradji\n",
            "Text :  derradji\n",
            "Encrypted Text :  2/e\"N9eQD@w?=6s().4Ignyc).4Ignyc^dr=CXNl2/e\"N9eQ/3Bt,d|Chg!|0,>b\n",
            "Decrypted Text :  derradji\n",
            "Size of Text : 57\n",
            "Size of Encrypted_Text : 113\n"
          ]
        }
      ],
      "source": [
        "import random, string, datetime, sys\n",
        "current_datetime = datetime.datetime.now()\n",
        "hour, minute, second = current_datetime.hour, current_datetime.minute, current_datetime.second\n",
        "time = f\"{hour}/{minute}/{second}\"\n",
        "print(\"Time : \" , time)\n",
        "def generate_random_value(k):\n",
        "    return ''.join(random.choices(string.ascii_letters + string.digits + string.punctuation, k=k))\n",
        "def generate_random_dictionary(k_const):\n",
        "    random_dict = {}\n",
        "    keys = string.ascii_lowercase + string.digits + string.punctuation\n",
        "    for key in keys:\n",
        "        random_dict[key] = generate_random_value(k_const)\n",
        "    return random_dict\n",
        "k_const = int(input(\"K = \"))\n",
        "text = str(input(\"Text = \"))\n",
        "random_dict = generate_random_dictionary(k_const)\n",
        "inverse_dict = {value: key for key, value in random_dict.items()}\n",
        "with open(f\"{second}.txt\", \"w\") as file:\n",
        "    file.write(\"----------------------Key Encrypt------------------\\n\")\n",
        "    file.write(f\"{random_dict}\")\n",
        "    file.write(\"\\n\\n\")\n",
        "    file.write(\"------------------Key Decrypt------------\\n\")\n",
        "    file.write(f\"{inverse_dict}\")\n",
        "encrypted_text = \"\".join(random_dict[char] for char in text if char in random_dict)\n",
        "def decrypt(text):\n",
        "    if len(text)%k_const == 0:\n",
        "        chunks = [text[i:i+k_const] for i in range(0, len(text), k_const)]\n",
        "        replaced_text = [inverse_dict[item] for item in chunks]\n",
        "    else:\n",
        "        chunks = \"\"\n",
        "        replaced_text = \"\"\n",
        "    return ''.join(replaced_text)\n",
        "print(\"Text : \" , text)\n",
        "print(\"Encrypted Text : \", encrypted_text)\n",
        "print(\"Decrypted Text : \", decrypt(encrypted_text))\n",
        "\n",
        "print(\"Size of Text :\", sys.getsizeof(text))\n",
        "print(\"Size of Encrypted_Text :\", sys.getsizeof(encrypted_text))"
      ]
    }
  ]
}